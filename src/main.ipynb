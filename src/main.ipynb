{
 "cells": [
  {
   "cell_type": "markdown",
   "source": [
    "# Imports and general settings"
   ],
   "metadata": {
    "collapsed": false
   }
  },
  {
   "cell_type": "code",
   "source": [
    "import time\n",
    "from statistics import mean\n",
    "\n",
    "import pandas as pd\n",
    "from sklearn.decomposition import PCA\n",
    "from sklearn.discriminant_analysis import QuadraticDiscriminantAnalysis\n",
    "from sklearn.ensemble import AdaBoostClassifier, RandomForestClassifier\n",
    "from sklearn.linear_model import SGDClassifier\n",
    "from sklearn.metrics import classification_report, roc_auc_score\n",
    "from sklearn.model_selection import cross_val_score, GridSearchCV, train_test_split\n",
    "from sklearn.naive_bayes import GaussianNB\n",
    "from sklearn.neighbors import KNeighborsClassifier\n",
    "from sklearn.neural_network import MLPClassifier\n",
    "from sklearn.preprocessing import StandardScaler\n",
    "from sklearn.svm import SVC\n",
    "from sklearn.tree import DecisionTreeClassifier\n",
    "\n",
    "from src.persisters import DataPersister, ModelPersister\n",
    "from src.readers import DatasetReader\n",
    "from src.transformers import DataframeTransformer\n",
    "from src.utils import get_model_log_string\n",
    "\n",
    "pd.set_option('display.width', None)\n",
    "pd.set_option('display.max_columns', 20)\n",
    "start = time.time()"
   ],
   "metadata": {
    "collapsed": false,
    "pycharm": {
     "name": "#%%\n"
    }
   },
   "execution_count": 1,
   "outputs": []
  },
  {
   "cell_type": "markdown",
   "source": [
    "# Read symptoms\n",
    "Reads sintomas.csv file and transforms its data into an usable dataframe."
   ],
   "metadata": {
    "collapsed": false,
    "pycharm": {
     "name": "#%% md\n"
    }
   }
  },
  {
   "cell_type": "code",
   "execution_count": null,
   "outputs": [],
   "source": [
    "symptoms_df = DatasetReader.read_symptoms('/data/sintomas.csv')\n",
    "extended_symptoms_df = DataframeTransformer.split_symptoms(symptoms_df)\n",
    "print('Symptoms')\n",
    "extended_symptoms_df.head()"
   ],
   "metadata": {
    "collapsed": false,
    "pycharm": {
     "name": "#%%\n",
     "is_executing": true
    }
   }
  },
  {
   "cell_type": "markdown",
   "source": [
    "# Read diabetes.csv file\n",
    "Reads diabetes.csv file and transforms its data into an usable dataframe."
   ],
   "metadata": {
    "collapsed": false,
    "pycharm": {
     "name": "#%% md\n"
    }
   }
  },
  {
   "cell_type": "code",
   "execution_count": null,
   "outputs": [],
   "source": [
    "diabetes_df = DatasetReader.read_data('/data/diabetes.csv')\n",
    "\n",
    "# Gets only first measures by date of each patient\n",
    "measures_diabetes_df = DataframeTransformer.split_dataframe_first_measures(diabetes_df, 1)\n",
    "\n",
    "# Get variable dummies from column 'Sexo'\n",
    "measures_diabetes_df = DataframeTransformer.get_dummies(measures_diabetes_df, ['Sexo'])\n",
    "\n",
    "measures_diabetes_df.dropna(inplace=True)\n",
    "print(f'\\nN diabetes (diabetes=1): {measures_diabetes_df.size}')\n",
    "measures_diabetes_df.head()"
   ],
   "metadata": {
    "collapsed": false,
    "pycharm": {
     "name": "#%%\n",
     "is_executing": true
    }
   }
  },
  {
   "cell_type": "markdown",
   "source": [
    "# Read no_diabetes.csv file\n",
    "Reads no_diabetes.csv file and transforms its data into an usable dataframe."
   ],
   "metadata": {
    "collapsed": false,
    "pycharm": {
     "name": "#%% md\n"
    }
   }
  },
  {
   "cell_type": "code",
   "execution_count": null,
   "outputs": [],
   "source": [
    "no_diabetes_df = DatasetReader.read_data('/data/no_diabetes.csv')\n",
    "\n",
    "# Gets only last measures by date of each patient\n",
    "measures_no_diabetes_df = DataframeTransformer.split_dataframe_last_measures(no_diabetes_df, 0)\n",
    "\n",
    "# Get variable dummies from column 'Sexo'\n",
    "measures_no_diabetes_df = DataframeTransformer.get_dummies(measures_no_diabetes_df, ['Sexo'])\n",
    "\n",
    "measures_no_diabetes_df.dropna(inplace=True)\n",
    "print(f'\\nN no diabetes (diabetes=0): {measures_no_diabetes_df.size}')\n",
    "measures_no_diabetes_df.head()"
   ],
   "metadata": {
    "collapsed": false,
    "pycharm": {
     "name": "#%%\n",
     "is_executing": true
    }
   }
  },
  {
   "cell_type": "markdown",
   "source": [
    "# Test/train final dataframe creation"
   ],
   "metadata": {
    "collapsed": false,
    "pycharm": {
     "name": "#%% md\n"
    }
   }
  },
  {
   "cell_type": "code",
   "execution_count": null,
   "outputs": [],
   "source": [
    "# Concatenates diabetes and non-diabetes dataframes into a single one.\n",
    "measures_df = pd.concat([measures_diabetes_df, measures_no_diabetes_df], ignore_index=True)\n",
    "\n",
    "# Joins created dataframe with each patient symptoms\n",
    "measures_df = DataframeTransformer.df_merge_left_on_column(measures_df, extended_symptoms_df, on='ID')\n",
    "\n",
    "# Replaces any NaN with the number 0\n",
    "measures_df.fillna(0, inplace=True)\n",
    "\n",
    "# Column ID is not needed for model training\n",
    "measures_df.drop(['ID'], axis='columns', inplace=True)\n",
    "\n",
    "# Save processed data\n",
    "DataPersister.save(measures_df, 'train_test_dataset_001.csv')\n",
    "\n",
    "print(f'\\nN processed dataset: {measures_no_diabetes_df.size}')\n",
    "measures_df.head()"
   ],
   "metadata": {
    "collapsed": false,
    "pycharm": {
     "name": "#%%\n",
     "is_executing": true
    }
   }
  },
  {
   "cell_type": "markdown",
   "source": [
    "# Correlations\n",
    "See if there is any correlations"
   ],
   "metadata": {
    "collapsed": false,
    "pycharm": {
     "name": "#%% md\n"
    }
   }
  },
  {
   "cell_type": "code",
   "execution_count": null,
   "outputs": [],
   "source": [
    "corr_matrix = measures_df.corr()\n",
    "corr_matrix[corr_matrix >= 0.7]"
   ],
   "metadata": {
    "collapsed": false,
    "pycharm": {
     "name": "#%%\n",
     "is_executing": true
    }
   }
  },
  {
   "cell_type": "markdown",
   "source": [
    "It can be observed that *Colesterol* and *LDL-Calculado* features are highly correlated."
   ],
   "metadata": {
    "collapsed": false,
    "pycharm": {
     "name": "#%% md\n"
    }
   }
  },
  {
   "cell_type": "markdown",
   "source": [
    "# Split into train/test datasets and standardize data\n",
    "Split and standardize data.\n",
    "Apply PCA analysis if selected."
   ],
   "metadata": {
    "collapsed": false,
    "pycharm": {
     "name": "#%% md\n"
    }
   }
  },
  {
   "cell_type": "code",
   "execution_count": 7,
   "outputs": [
    {
     "name": "stdout",
     "output_type": "stream",
     "text": [
      "10 components explain 95% of the variance.\n"
     ]
    }
   ],
   "source": [
    "# Split train/test datasets\n",
    "train, test = train_test_split(measures_df, test_size=0.2, random_state=5, stratify=measures_df.diabetes)\n",
    "\n",
    "# Standardize variables only with train data\n",
    "columns_to_standardize = ['Edad', 'Colesterol', 'LDL-Calculado', 'Hb-Glicosilada', 'Trigliceridos', 'HDL-Colesterol']\n",
    "sc = StandardScaler()\n",
    "train[columns_to_standardize] = sc.fit_transform(train[columns_to_standardize])\n",
    "test[columns_to_standardize] = sc.transform(test[columns_to_standardize])\n",
    "\n",
    "# Features\n",
    "train_x = train.loc[:, train.columns != 'diabetes']\n",
    "test_x = test.loc[:, train.columns != 'diabetes']\n",
    "# Target variables\n",
    "train_y = train.diabetes\n",
    "test_y = test.diabetes\n",
    "\n",
    "apply_pca = True\n",
    "if apply_pca:\n",
    "    pca = PCA(.95) # Get n PCA components that fit 95% of the variance explanation\n",
    "    train_x = pca.fit_transform(train_x)\n",
    "    test_x = pca.transform(test_x)\n",
    "    print(f'{pca.n_components_} components explain 95% of the variance.')"
   ],
   "metadata": {
    "collapsed": false,
    "pycharm": {
     "name": "#%%\n"
    }
   }
  },
  {
   "cell_type": "markdown",
   "source": [
    "# Train chosen models"
   ],
   "metadata": {
    "collapsed": false,
    "pycharm": {
     "name": "#%% md\n"
    }
   }
  },
  {
   "cell_type": "code",
   "execution_count": 8,
   "outputs": [],
   "source": [
    "classifiers = [\n",
    "    (AdaBoostClassifier(), ''),\n",
    "    (DecisionTreeClassifier(), ''),\n",
    "    (GaussianNB(), ''),\n",
    "    (KNeighborsClassifier(), ''),\n",
    "    (MLPClassifier(max_iter=5000), ''),  # 5000 iterations to ensure convergence\n",
    "    (QuadraticDiscriminantAnalysis(), ''),\n",
    "    (RandomForestClassifier(), ''),\n",
    "    (SGDClassifier(max_iter=1000), ''),  # 1000 iterations to ensure convergence\n",
    "    (SVC(kernel='linear'), 'linear'),\n",
    "    (SVC(gamma=2), 'gamma_2'),\n",
    "]"
   ],
   "metadata": {
    "collapsed": false,
    "pycharm": {
     "name": "#%%\n"
    }
   }
  },
  {
   "cell_type": "code",
   "execution_count": null,
   "outputs": [],
   "source": [
    "classifiers_scores = []\n",
    "for model, description in classifiers:\n",
    "    # Save model\n",
    "    ModelPersister.save(model, description)\n",
    "    score = mean(cross_val_score(model, train_x, train_y, scoring='accuracy'))\n",
    "    classifiers_scores.append(score)\n",
    "    print(get_model_log_string(model, description))\n",
    "    print(f'Score: {score}')"
   ],
   "metadata": {
    "collapsed": false,
    "pycharm": {
     "name": "#%%\n",
     "is_executing": true
    }
   }
  },
  {
   "cell_type": "markdown",
   "source": [
    "# Select best model based on accuracy score\n",
    "Select best model and predict test dataset."
   ],
   "metadata": {
    "collapsed": false,
    "pycharm": {
     "name": "#%% md\n"
    }
   }
  },
  {
   "cell_type": "code",
   "execution_count": null,
   "outputs": [],
   "source": [
    "# Best model\n",
    "best_train_score = max(classifiers_scores)\n",
    "best_model_idx = classifiers_scores.index(best_train_score)\n",
    "best_model = classifiers[best_model_idx][0].fit(train_x, train_y)\n",
    "\n",
    "print('\\nBest model', get_model_log_string(classifiers[best_model_idx][0], classifiers[best_model_idx][1]))\n",
    "print(f'\\nTrain data {50*\"#\"}')\n",
    "print(f'Accuracy score: {best_train_score}')\n",
    "\n",
    "pred_y = best_model.predict(test_x)\n",
    "print(f'\\nTest data {50*\"#\"}')\n",
    "print(classification_report(test_y, pred_y, target_names=['no diabetes', 'diabetes'], labels=[0, 1], digits=3))\n",
    "print(f'AUC score: {roc_auc_score(test_y, pred_y)}')"
   ],
   "metadata": {
    "collapsed": false,
    "pycharm": {
     "name": "#%%\n",
     "is_executing": true
    }
   }
  },
  {
   "cell_type": "code",
   "execution_count": 11,
   "outputs": [
    {
     "name": "stdout",
     "output_type": "stream",
     "text": [
      "\n",
      "Elapsed time 156.83001899719238 seconds\n"
     ]
    }
   ],
   "source": [
    "print(f'\\nElapsed time {time.time() - start} seconds')"
   ],
   "metadata": {
    "collapsed": false,
    "pycharm": {
     "name": "#%%\n"
    }
   }
  },
  {
   "cell_type": "markdown",
   "source": [
    "# Search for the best parameters configuration for the best model found\n",
    "\n",
    "The best found model is the *RandomForestClassifier*"
   ],
   "metadata": {
    "collapsed": false,
    "pycharm": {
     "name": "#%% md\n"
    }
   }
  },
  {
   "cell_type": "code",
   "execution_count": null,
   "outputs": [],
   "source": [
    "parameters = {\n",
    "    'n_estimators': [10, 50, 100, 200, 500],\n",
    "    'max_depth': [5, 10, 50, 100, None],\n",
    "    'min_samples_leaf': [1, 2, 3, 4, 5],\n",
    "    'max_features': [None, 'auto'],\n",
    "    'criterion': ['gini', 'entropy'],\n",
    "}\n",
    "grid_search_cv = GridSearchCV(RandomForestClassifier(), parameters)\n",
    "grid_search_cv.fit(train_x, train_y)"
   ],
   "metadata": {
    "collapsed": false,
    "pycharm": {
     "name": "#%%\n",
     "is_executing": true
    }
   }
  },
  {
   "cell_type": "code",
   "execution_count": null,
   "outputs": [],
   "source": [
    "print('\\nModel Random Forest')\n",
    "print(f'\\nTrain data {50*\"#\"}')\n",
    "print(f'Best performing parameters: {grid_search_cv.best_params_}')\n",
    "print(f'Accuracy score: {grid_search_cv.best_score_}')\n",
    "\n",
    "\n",
    "grid_search_pred_y = grid_search_cv.predict(test_x)\n",
    "print(f'\\nTest data {50*\"#\"}')\n",
    "print(classification_report(test_y, grid_search_pred_y, target_names=['no diabetes', 'diabetes'], labels=[0, 1], digits=3))\n",
    "print(f'AUC score: {roc_auc_score(test_y, grid_search_pred_y)}')"
   ],
   "metadata": {
    "collapsed": false,
    "pycharm": {
     "name": "#%%\n"
    }
   }
  },
  {
   "cell_type": "code",
   "execution_count": null,
   "outputs": [],
   "source": [
    "print(f'\\nElapsed time {time.time() - start} seconds')"
   ],
   "metadata": {
    "collapsed": false,
    "pycharm": {
     "name": "#%%\n"
    }
   }
  }
 ],
 "metadata": {
  "kernelspec": {
   "display_name": "Python 3",
   "language": "python",
   "name": "python3"
  },
  "language_info": {
   "codemirror_mode": {
    "name": "ipython",
    "version": 2
   },
   "file_extension": ".py",
   "mimetype": "text/x-python",
   "name": "python",
   "nbconvert_exporter": "python",
   "pygments_lexer": "ipython2",
   "version": "2.7.6"
  }
 },
 "nbformat": 4,
 "nbformat_minor": 0
}