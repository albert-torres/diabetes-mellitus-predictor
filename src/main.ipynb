{
 "cells": [
  {
   "cell_type": "markdown",
   "source": [
    "# Imports and general settings"
   ],
   "metadata": {
    "collapsed": false,
    "pycharm": {
     "name": "#%% md\n"
    }
   }
  },
  {
   "cell_type": "code",
   "source": [
    "import time\n",
    "from statistics import mean\n",
    "\n",
    "import pandas as pd\n",
    "from sklearn.discriminant_analysis import QuadraticDiscriminantAnalysis\n",
    "from sklearn.ensemble import AdaBoostClassifier, RandomForestClassifier\n",
    "from sklearn.linear_model import SGDClassifier\n",
    "from sklearn.metrics import accuracy_score, roc_auc_score\n",
    "from sklearn.model_selection import cross_val_score, train_test_split\n",
    "from sklearn.naive_bayes import GaussianNB\n",
    "from sklearn.neighbors import KNeighborsClassifier\n",
    "from sklearn.neural_network import MLPClassifier\n",
    "from sklearn.preprocessing import StandardScaler\n",
    "from sklearn.svm import SVC\n",
    "from sklearn.tree import DecisionTreeClassifier\n",
    "\n",
    "from src.persisters import DataPersister, ModelPersister\n",
    "from src.readers import DatasetReader\n",
    "from src.transformers import DataframeTransformer\n",
    "from src.utils import get_model_log_string\n",
    "\n",
    "pd.set_option('display.width', None)\n",
    "pd.set_option('display.max_columns', 20)\n",
    "start = time.time()"
   ],
   "metadata": {
    "collapsed": false,
    "pycharm": {
     "name": "#%%\n"
    }
   },
   "execution_count": 26,
   "outputs": []
  },
  {
   "cell_type": "markdown",
   "source": [
    "# Read symptoms\n",
    "Reads sintomas.csv file and transforms its data into an usable dataframe."
   ],
   "metadata": {
    "collapsed": false,
    "pycharm": {
     "name": "#%% md\n"
    }
   }
  },
  {
   "cell_type": "code",
   "execution_count": 27,
   "outputs": [
    {
     "name": "stdout",
     "output_type": "stream",
     "text": [
      "Symptoms\n"
     ]
    },
    {
     "data": {
      "text/plain": "            ID  obesidad  hipotension  vision borrosa  sin sintomas  \\\n0  UOC00035209         0            0               0             0   \n1  UOC00058738         0            0               0             0   \n2  UOC00059812         0            0               0             0   \n3  UOC00067451         0            0               0             0   \n4  UOC00120895         0            0               0             0   \n\n   hiperlipidemia  hipertension  sedentarismo  fatiga  anemia  \\\n0               1             0             1       0       0   \n1               0             1             0       0       0   \n2               0             0             1       0       0   \n3               0             0             0       0       0   \n4               0             0             0       0       0   \n\n   symptom_diabetes  sed habitual y necesidad de beber  sobrepeso  \\\n0                 0                                  0          0   \n1                 0                                  0          0   \n2                 0                                  1          0   \n3                 1                                  0          0   \n4                 0                                  0          0   \n\n   sin diagnostico  \n0                0  \n1                0  \n2                0  \n3                0  \n4                1  ",
      "text/html": "<div>\n<style scoped>\n    .dataframe tbody tr th:only-of-type {\n        vertical-align: middle;\n    }\n\n    .dataframe tbody tr th {\n        vertical-align: top;\n    }\n\n    .dataframe thead th {\n        text-align: right;\n    }\n</style>\n<table border=\"1\" class=\"dataframe\">\n  <thead>\n    <tr style=\"text-align: right;\">\n      <th></th>\n      <th>ID</th>\n      <th>obesidad</th>\n      <th>hipotension</th>\n      <th>vision borrosa</th>\n      <th>sin sintomas</th>\n      <th>hiperlipidemia</th>\n      <th>hipertension</th>\n      <th>sedentarismo</th>\n      <th>fatiga</th>\n      <th>anemia</th>\n      <th>symptom_diabetes</th>\n      <th>sed habitual y necesidad de beber</th>\n      <th>sobrepeso</th>\n      <th>sin diagnostico</th>\n    </tr>\n  </thead>\n  <tbody>\n    <tr>\n      <th>0</th>\n      <td>UOC00035209</td>\n      <td>0</td>\n      <td>0</td>\n      <td>0</td>\n      <td>0</td>\n      <td>1</td>\n      <td>0</td>\n      <td>1</td>\n      <td>0</td>\n      <td>0</td>\n      <td>0</td>\n      <td>0</td>\n      <td>0</td>\n      <td>0</td>\n    </tr>\n    <tr>\n      <th>1</th>\n      <td>UOC00058738</td>\n      <td>0</td>\n      <td>0</td>\n      <td>0</td>\n      <td>0</td>\n      <td>0</td>\n      <td>1</td>\n      <td>0</td>\n      <td>0</td>\n      <td>0</td>\n      <td>0</td>\n      <td>0</td>\n      <td>0</td>\n      <td>0</td>\n    </tr>\n    <tr>\n      <th>2</th>\n      <td>UOC00059812</td>\n      <td>0</td>\n      <td>0</td>\n      <td>0</td>\n      <td>0</td>\n      <td>0</td>\n      <td>0</td>\n      <td>1</td>\n      <td>0</td>\n      <td>0</td>\n      <td>0</td>\n      <td>1</td>\n      <td>0</td>\n      <td>0</td>\n    </tr>\n    <tr>\n      <th>3</th>\n      <td>UOC00067451</td>\n      <td>0</td>\n      <td>0</td>\n      <td>0</td>\n      <td>0</td>\n      <td>0</td>\n      <td>0</td>\n      <td>0</td>\n      <td>0</td>\n      <td>0</td>\n      <td>1</td>\n      <td>0</td>\n      <td>0</td>\n      <td>0</td>\n    </tr>\n    <tr>\n      <th>4</th>\n      <td>UOC00120895</td>\n      <td>0</td>\n      <td>0</td>\n      <td>0</td>\n      <td>0</td>\n      <td>0</td>\n      <td>0</td>\n      <td>0</td>\n      <td>0</td>\n      <td>0</td>\n      <td>0</td>\n      <td>0</td>\n      <td>0</td>\n      <td>1</td>\n    </tr>\n  </tbody>\n</table>\n</div>"
     },
     "execution_count": 27,
     "metadata": {},
     "output_type": "execute_result"
    }
   ],
   "source": [
    "symptoms_df = DatasetReader.read_symptoms('/data/sintomas.csv')\n",
    "extended_symptoms_df = DataframeTransformer.split_symptoms(symptoms_df)\n",
    "print('Symptoms')\n",
    "extended_symptoms_df.head()"
   ],
   "metadata": {
    "collapsed": false,
    "pycharm": {
     "name": "#%%\n"
    }
   }
  },
  {
   "cell_type": "markdown",
   "source": [
    "# Read diabetes.csv file\n",
    "Reads diabetes.csv file and transforms its data into an usable dataframe."
   ],
   "metadata": {
    "collapsed": false,
    "pycharm": {
     "name": "#%% md\n"
    }
   }
  },
  {
   "cell_type": "code",
   "execution_count": 28,
   "outputs": [
    {
     "name": "stdout",
     "output_type": "stream",
     "text": [
      "\n",
      "N diabetes (diabetes=1): 23830\n"
     ]
    },
    {
     "data": {
      "text/plain": "            ID  Edad  Colesterol  LDL-Calculado  Hb-Glicosilada  \\\n0  UOC00035209    54       181.0           90.0             7.6   \n1  UOC00058738    51       257.0          159.0             9.5   \n2  UOC00059812    42       186.0          123.0             6.9   \n3  UOC00067451    80       183.0          101.0             6.4   \n5  UOC00140051    85       182.0           76.0             6.2   \n\n   Trigliceridos  HDL-Colesterol  diabetes  Sexo_Hombre  Sexo_Mujer  \n0          129.0            65.0         1            0           1  \n1          311.0            36.0         1            1           0  \n2           60.0            51.0         1            1           0  \n3          244.0            33.0         1            1           0  \n5          331.0            40.0         1            0           1  ",
      "text/html": "<div>\n<style scoped>\n    .dataframe tbody tr th:only-of-type {\n        vertical-align: middle;\n    }\n\n    .dataframe tbody tr th {\n        vertical-align: top;\n    }\n\n    .dataframe thead th {\n        text-align: right;\n    }\n</style>\n<table border=\"1\" class=\"dataframe\">\n  <thead>\n    <tr style=\"text-align: right;\">\n      <th></th>\n      <th>ID</th>\n      <th>Edad</th>\n      <th>Colesterol</th>\n      <th>LDL-Calculado</th>\n      <th>Hb-Glicosilada</th>\n      <th>Trigliceridos</th>\n      <th>HDL-Colesterol</th>\n      <th>diabetes</th>\n      <th>Sexo_Hombre</th>\n      <th>Sexo_Mujer</th>\n    </tr>\n  </thead>\n  <tbody>\n    <tr>\n      <th>0</th>\n      <td>UOC00035209</td>\n      <td>54</td>\n      <td>181.0</td>\n      <td>90.0</td>\n      <td>7.6</td>\n      <td>129.0</td>\n      <td>65.0</td>\n      <td>1</td>\n      <td>0</td>\n      <td>1</td>\n    </tr>\n    <tr>\n      <th>1</th>\n      <td>UOC00058738</td>\n      <td>51</td>\n      <td>257.0</td>\n      <td>159.0</td>\n      <td>9.5</td>\n      <td>311.0</td>\n      <td>36.0</td>\n      <td>1</td>\n      <td>1</td>\n      <td>0</td>\n    </tr>\n    <tr>\n      <th>2</th>\n      <td>UOC00059812</td>\n      <td>42</td>\n      <td>186.0</td>\n      <td>123.0</td>\n      <td>6.9</td>\n      <td>60.0</td>\n      <td>51.0</td>\n      <td>1</td>\n      <td>1</td>\n      <td>0</td>\n    </tr>\n    <tr>\n      <th>3</th>\n      <td>UOC00067451</td>\n      <td>80</td>\n      <td>183.0</td>\n      <td>101.0</td>\n      <td>6.4</td>\n      <td>244.0</td>\n      <td>33.0</td>\n      <td>1</td>\n      <td>1</td>\n      <td>0</td>\n    </tr>\n    <tr>\n      <th>5</th>\n      <td>UOC00140051</td>\n      <td>85</td>\n      <td>182.0</td>\n      <td>76.0</td>\n      <td>6.2</td>\n      <td>331.0</td>\n      <td>40.0</td>\n      <td>1</td>\n      <td>0</td>\n      <td>1</td>\n    </tr>\n  </tbody>\n</table>\n</div>"
     },
     "execution_count": 28,
     "metadata": {},
     "output_type": "execute_result"
    }
   ],
   "source": [
    "diabetes_df = DatasetReader.read_data('/data/diabetes.csv')\n",
    "\n",
    "# Gets only first measures by date of each patient\n",
    "measures_diabetes_df = DataframeTransformer.split_dataframe_first_measures(diabetes_df, 1)\n",
    "\n",
    "# Get variable dummies from column 'Sexo'\n",
    "measures_diabetes_df = DataframeTransformer.get_dummies(measures_diabetes_df, ['Sexo'])\n",
    "\n",
    "measures_diabetes_df.dropna(inplace=True)\n",
    "print(f'\\nN diabetes (diabetes=1): {measures_diabetes_df.size}')\n",
    "measures_diabetes_df.head()"
   ],
   "metadata": {
    "collapsed": false,
    "pycharm": {
     "name": "#%%\n"
    }
   }
  },
  {
   "cell_type": "markdown",
   "source": [
    "# Read no_diabetes.csv file\n",
    "Reads no_diabetes.csv file and transforms its data into an usable dataframe."
   ],
   "metadata": {
    "collapsed": false,
    "pycharm": {
     "name": "#%% md\n"
    }
   }
  },
  {
   "cell_type": "code",
   "execution_count": 29,
   "outputs": [
    {
     "name": "stdout",
     "output_type": "stream",
     "text": [
      "\n",
      "N no diabetes (diabetes=0): 15130\n"
     ]
    },
    {
     "data": {
      "text/plain": "             ID  Edad  Colesterol  LDL-Calculado  Hb-Glicosilada  \\\n2   UOC00028665    60       318.0          219.0             5.7   \n4   UOC00030620    48       264.0          163.0             6.1   \n6   UOC00031047    62       225.0          154.0             5.1   \n8   UOC00037517    49       210.0          134.0             5.4   \n15  UOC00043642    92       155.0           88.0             5.5   \n\n    Trigliceridos  HDL-Colesterol  diabetes  Sexo_Hombre  Sexo_Mujer  \n2           264.0            46.0         0            1           0  \n4           169.0            67.0         0            0           1  \n6            99.0            51.0         0            1           0  \n8            72.0            62.0         0            0           1  \n15          106.0            46.0         0            1           0  ",
      "text/html": "<div>\n<style scoped>\n    .dataframe tbody tr th:only-of-type {\n        vertical-align: middle;\n    }\n\n    .dataframe tbody tr th {\n        vertical-align: top;\n    }\n\n    .dataframe thead th {\n        text-align: right;\n    }\n</style>\n<table border=\"1\" class=\"dataframe\">\n  <thead>\n    <tr style=\"text-align: right;\">\n      <th></th>\n      <th>ID</th>\n      <th>Edad</th>\n      <th>Colesterol</th>\n      <th>LDL-Calculado</th>\n      <th>Hb-Glicosilada</th>\n      <th>Trigliceridos</th>\n      <th>HDL-Colesterol</th>\n      <th>diabetes</th>\n      <th>Sexo_Hombre</th>\n      <th>Sexo_Mujer</th>\n    </tr>\n  </thead>\n  <tbody>\n    <tr>\n      <th>2</th>\n      <td>UOC00028665</td>\n      <td>60</td>\n      <td>318.0</td>\n      <td>219.0</td>\n      <td>5.7</td>\n      <td>264.0</td>\n      <td>46.0</td>\n      <td>0</td>\n      <td>1</td>\n      <td>0</td>\n    </tr>\n    <tr>\n      <th>4</th>\n      <td>UOC00030620</td>\n      <td>48</td>\n      <td>264.0</td>\n      <td>163.0</td>\n      <td>6.1</td>\n      <td>169.0</td>\n      <td>67.0</td>\n      <td>0</td>\n      <td>0</td>\n      <td>1</td>\n    </tr>\n    <tr>\n      <th>6</th>\n      <td>UOC00031047</td>\n      <td>62</td>\n      <td>225.0</td>\n      <td>154.0</td>\n      <td>5.1</td>\n      <td>99.0</td>\n      <td>51.0</td>\n      <td>0</td>\n      <td>1</td>\n      <td>0</td>\n    </tr>\n    <tr>\n      <th>8</th>\n      <td>UOC00037517</td>\n      <td>49</td>\n      <td>210.0</td>\n      <td>134.0</td>\n      <td>5.4</td>\n      <td>72.0</td>\n      <td>62.0</td>\n      <td>0</td>\n      <td>0</td>\n      <td>1</td>\n    </tr>\n    <tr>\n      <th>15</th>\n      <td>UOC00043642</td>\n      <td>92</td>\n      <td>155.0</td>\n      <td>88.0</td>\n      <td>5.5</td>\n      <td>106.0</td>\n      <td>46.0</td>\n      <td>0</td>\n      <td>1</td>\n      <td>0</td>\n    </tr>\n  </tbody>\n</table>\n</div>"
     },
     "execution_count": 29,
     "metadata": {},
     "output_type": "execute_result"
    }
   ],
   "source": [
    "no_diabetes_df = DatasetReader.read_data('/data/no_diabetes.csv')\n",
    "\n",
    "# Gets only last measures by date of each patient\n",
    "measures_no_diabetes_df = DataframeTransformer.split_dataframe_last_measures(no_diabetes_df, 0)\n",
    "\n",
    "# Get variable dummies from column 'Sexo'\n",
    "measures_no_diabetes_df = DataframeTransformer.get_dummies(measures_no_diabetes_df, ['Sexo'])\n",
    "\n",
    "measures_no_diabetes_df.dropna(inplace=True)\n",
    "print(f'\\nN no diabetes (diabetes=0): {measures_no_diabetes_df.size}')\n",
    "measures_no_diabetes_df.head()"
   ],
   "metadata": {
    "collapsed": false,
    "pycharm": {
     "name": "#%%\n"
    }
   }
  },
  {
   "cell_type": "markdown",
   "source": [
    "# Test/train final dataframe creation"
   ],
   "metadata": {
    "collapsed": false,
    "pycharm": {
     "name": "#%% md\n"
    }
   }
  },
  {
   "cell_type": "code",
   "execution_count": 30,
   "outputs": [
    {
     "name": "stdout",
     "output_type": "stream",
     "text": [
      "\n",
      "Processed dataset: 15130\n"
     ]
    },
    {
     "data": {
      "text/plain": "   Edad  Colesterol  LDL-Calculado  Hb-Glicosilada  Trigliceridos  \\\n0    54       181.0           90.0             7.6          129.0   \n1    51       257.0          159.0             9.5          311.0   \n2    42       186.0          123.0             6.9           60.0   \n3    80       183.0          101.0             6.4          244.0   \n4    85       182.0           76.0             6.2          331.0   \n\n   HDL-Colesterol  diabetes  Sexo_Hombre  Sexo_Mujer  obesidad  ...  \\\n0            65.0         1            0           1         0  ...   \n1            36.0         1            1           0         0  ...   \n2            51.0         1            1           0         0  ...   \n3            33.0         1            1           0         0  ...   \n4            40.0         1            0           1         0  ...   \n\n   sin sintomas  hiperlipidemia  hipertension  sedentarismo  fatiga  anemia  \\\n0             0               1             0             1       0       0   \n1             0               0             1             0       0       0   \n2             0               0             0             1       0       0   \n3             0               0             0             0       0       0   \n4             0               0             0             0       0       0   \n\n   symptom_diabetes  sed habitual y necesidad de beber  sobrepeso  \\\n0                 0                                  0          0   \n1                 0                                  0          0   \n2                 0                                  1          0   \n3                 1                                  0          0   \n4                 1                                  0          0   \n\n   sin diagnostico  \n0                0  \n1                0  \n2                0  \n3                0  \n4                0  \n\n[5 rows x 22 columns]",
      "text/html": "<div>\n<style scoped>\n    .dataframe tbody tr th:only-of-type {\n        vertical-align: middle;\n    }\n\n    .dataframe tbody tr th {\n        vertical-align: top;\n    }\n\n    .dataframe thead th {\n        text-align: right;\n    }\n</style>\n<table border=\"1\" class=\"dataframe\">\n  <thead>\n    <tr style=\"text-align: right;\">\n      <th></th>\n      <th>Edad</th>\n      <th>Colesterol</th>\n      <th>LDL-Calculado</th>\n      <th>Hb-Glicosilada</th>\n      <th>Trigliceridos</th>\n      <th>HDL-Colesterol</th>\n      <th>diabetes</th>\n      <th>Sexo_Hombre</th>\n      <th>Sexo_Mujer</th>\n      <th>obesidad</th>\n      <th>...</th>\n      <th>sin sintomas</th>\n      <th>hiperlipidemia</th>\n      <th>hipertension</th>\n      <th>sedentarismo</th>\n      <th>fatiga</th>\n      <th>anemia</th>\n      <th>symptom_diabetes</th>\n      <th>sed habitual y necesidad de beber</th>\n      <th>sobrepeso</th>\n      <th>sin diagnostico</th>\n    </tr>\n  </thead>\n  <tbody>\n    <tr>\n      <th>0</th>\n      <td>54</td>\n      <td>181.0</td>\n      <td>90.0</td>\n      <td>7.6</td>\n      <td>129.0</td>\n      <td>65.0</td>\n      <td>1</td>\n      <td>0</td>\n      <td>1</td>\n      <td>0</td>\n      <td>...</td>\n      <td>0</td>\n      <td>1</td>\n      <td>0</td>\n      <td>1</td>\n      <td>0</td>\n      <td>0</td>\n      <td>0</td>\n      <td>0</td>\n      <td>0</td>\n      <td>0</td>\n    </tr>\n    <tr>\n      <th>1</th>\n      <td>51</td>\n      <td>257.0</td>\n      <td>159.0</td>\n      <td>9.5</td>\n      <td>311.0</td>\n      <td>36.0</td>\n      <td>1</td>\n      <td>1</td>\n      <td>0</td>\n      <td>0</td>\n      <td>...</td>\n      <td>0</td>\n      <td>0</td>\n      <td>1</td>\n      <td>0</td>\n      <td>0</td>\n      <td>0</td>\n      <td>0</td>\n      <td>0</td>\n      <td>0</td>\n      <td>0</td>\n    </tr>\n    <tr>\n      <th>2</th>\n      <td>42</td>\n      <td>186.0</td>\n      <td>123.0</td>\n      <td>6.9</td>\n      <td>60.0</td>\n      <td>51.0</td>\n      <td>1</td>\n      <td>1</td>\n      <td>0</td>\n      <td>0</td>\n      <td>...</td>\n      <td>0</td>\n      <td>0</td>\n      <td>0</td>\n      <td>1</td>\n      <td>0</td>\n      <td>0</td>\n      <td>0</td>\n      <td>1</td>\n      <td>0</td>\n      <td>0</td>\n    </tr>\n    <tr>\n      <th>3</th>\n      <td>80</td>\n      <td>183.0</td>\n      <td>101.0</td>\n      <td>6.4</td>\n      <td>244.0</td>\n      <td>33.0</td>\n      <td>1</td>\n      <td>1</td>\n      <td>0</td>\n      <td>0</td>\n      <td>...</td>\n      <td>0</td>\n      <td>0</td>\n      <td>0</td>\n      <td>0</td>\n      <td>0</td>\n      <td>0</td>\n      <td>1</td>\n      <td>0</td>\n      <td>0</td>\n      <td>0</td>\n    </tr>\n    <tr>\n      <th>4</th>\n      <td>85</td>\n      <td>182.0</td>\n      <td>76.0</td>\n      <td>6.2</td>\n      <td>331.0</td>\n      <td>40.0</td>\n      <td>1</td>\n      <td>0</td>\n      <td>1</td>\n      <td>0</td>\n      <td>...</td>\n      <td>0</td>\n      <td>0</td>\n      <td>0</td>\n      <td>0</td>\n      <td>0</td>\n      <td>0</td>\n      <td>1</td>\n      <td>0</td>\n      <td>0</td>\n      <td>0</td>\n    </tr>\n  </tbody>\n</table>\n<p>5 rows × 22 columns</p>\n</div>"
     },
     "execution_count": 30,
     "metadata": {},
     "output_type": "execute_result"
    }
   ],
   "source": [
    "# Concatenates diabetes and non-diabetes dataframes into a single one.\n",
    "measures_df = pd.concat([measures_diabetes_df, measures_no_diabetes_df], ignore_index=True)\n",
    "\n",
    "# Joins created dataframe with each patient symptoms\n",
    "measures_df = DataframeTransformer.df_merge_left_on_column(measures_df, extended_symptoms_df, on='ID')\n",
    "\n",
    "# Replaces any NaN with the number 0\n",
    "measures_df.fillna(0, inplace=True)\n",
    "\n",
    "# Column ID is not needed for model training\n",
    "measures_df.drop(['ID'], axis='columns', inplace=True)\n",
    "\n",
    "# Save processed data\n",
    "DataPersister.save(measures_df, 'train_test_dataset_001.csv')\n",
    "\n",
    "print(f'\\nProcessed dataset: {measures_no_diabetes_df.size}')\n",
    "measures_df.head()"
   ],
   "metadata": {
    "collapsed": false,
    "pycharm": {
     "name": "#%%\n"
    }
   }
  },
  {
   "cell_type": "markdown",
   "source": [
    "# Split into train/test datasets and standardize data"
   ],
   "metadata": {
    "collapsed": false,
    "pycharm": {
     "name": "#%% md\n"
    }
   }
  },
  {
   "cell_type": "code",
   "execution_count": 31,
   "outputs": [],
   "source": [
    "# Split\n",
    "train, test = train_test_split(measures_df, test_size=0.2, random_state=5, stratify=measures_df.diabetes)\n",
    "train_x = train.loc[:, train.columns != 'diabetes']\n",
    "test_x = test.loc[:, train.columns != 'diabetes']\n",
    "\n",
    "# Standardize\n",
    "train_x = StandardScaler().fit_transform(train_x)\n",
    "test_x = StandardScaler().fit_transform(test_x)\n",
    "\n",
    "# Target variables\n",
    "train_y = train.diabetes\n",
    "test_y = test.diabetes"
   ],
   "metadata": {
    "collapsed": false,
    "pycharm": {
     "name": "#%%\n"
    }
   }
  },
  {
   "cell_type": "markdown",
   "source": [
    "# Train chosen models"
   ],
   "metadata": {
    "collapsed": false,
    "pycharm": {
     "name": "#%% md\n"
    }
   }
  },
  {
   "cell_type": "code",
   "execution_count": 32,
   "outputs": [],
   "source": [
    "classifiers = [\n",
    "    (KNeighborsClassifier(), ''),\n",
    "    (SVC(kernel='linear'), 'linear'),\n",
    "    (SVC(gamma=2), 'gamma_2'),\n",
    "    (DecisionTreeClassifier(), ''),\n",
    "    (RandomForestClassifier(), ''),\n",
    "    (AdaBoostClassifier(), ''),\n",
    "    (GaussianNB(), ''),\n",
    "    (QuadraticDiscriminantAnalysis(), ''),\n",
    "    (SGDClassifier(), ''),\n",
    "    (MLPClassifier(), ''),\n",
    "]"
   ],
   "metadata": {
    "collapsed": false,
    "pycharm": {
     "name": "#%%\n"
    }
   }
  },
  {
   "cell_type": "code",
   "execution_count": 33,
   "outputs": [
    {
     "name": "stdout",
     "output_type": "stream",
     "text": [
      "\n",
      "Model: KNeighborsClassifier\n",
      "Score: 0.9364638638515043\n",
      "\n",
      "Model: SVC (linear)\n",
      "Score: 0.958923941227312\n",
      "\n",
      "Model: SVC (gamma_2)\n",
      "Score: 0.8064853685640202\n",
      "\n",
      "Model: DecisionTreeClassifier\n",
      "Score: 0.9297207474173766\n",
      "\n",
      "Model: RandomForestClassifier\n",
      "Score: 0.9560357245750504\n",
      "\n",
      "Model: AdaBoostClassifier\n",
      "Score: 0.9589223978268923\n",
      "\n",
      "Model: GaussianNB\n",
      "Score: 0.8299157303370787\n",
      "\n",
      "Model: QuadraticDiscriminantAnalysis\n",
      "Score: 0.8122659176029963\n",
      "\n",
      "Model: SGDClassifier\n",
      "Score: 0.9464074782895008\n"
     ]
    },
    {
     "name": "stderr",
     "output_type": "stream",
     "text": [
      "/home/albert/Documentos/Personal/UOC/TFM/code/venv/lib/python3.8/site-packages/sklearn/discriminant_analysis.py:878: UserWarning: Variables are collinear\n",
      "  warnings.warn(\"Variables are collinear\")\n",
      "/home/albert/Documentos/Personal/UOC/TFM/code/venv/lib/python3.8/site-packages/sklearn/discriminant_analysis.py:878: UserWarning: Variables are collinear\n",
      "  warnings.warn(\"Variables are collinear\")\n",
      "/home/albert/Documentos/Personal/UOC/TFM/code/venv/lib/python3.8/site-packages/sklearn/discriminant_analysis.py:878: UserWarning: Variables are collinear\n",
      "  warnings.warn(\"Variables are collinear\")\n",
      "/home/albert/Documentos/Personal/UOC/TFM/code/venv/lib/python3.8/site-packages/sklearn/discriminant_analysis.py:878: UserWarning: Variables are collinear\n",
      "  warnings.warn(\"Variables are collinear\")\n",
      "/home/albert/Documentos/Personal/UOC/TFM/code/venv/lib/python3.8/site-packages/sklearn/discriminant_analysis.py:878: UserWarning: Variables are collinear\n",
      "  warnings.warn(\"Variables are collinear\")\n",
      "/home/albert/Documentos/Personal/UOC/TFM/code/venv/lib/python3.8/site-packages/sklearn/neural_network/_multilayer_perceptron.py:692: ConvergenceWarning: Stochastic Optimizer: Maximum iterations (200) reached and the optimization hasn't converged yet.\n",
      "  warnings.warn(\n",
      "/home/albert/Documentos/Personal/UOC/TFM/code/venv/lib/python3.8/site-packages/sklearn/neural_network/_multilayer_perceptron.py:692: ConvergenceWarning: Stochastic Optimizer: Maximum iterations (200) reached and the optimization hasn't converged yet.\n",
      "  warnings.warn(\n",
      "/home/albert/Documentos/Personal/UOC/TFM/code/venv/lib/python3.8/site-packages/sklearn/neural_network/_multilayer_perceptron.py:692: ConvergenceWarning: Stochastic Optimizer: Maximum iterations (200) reached and the optimization hasn't converged yet.\n",
      "  warnings.warn(\n",
      "/home/albert/Documentos/Personal/UOC/TFM/code/venv/lib/python3.8/site-packages/sklearn/neural_network/_multilayer_perceptron.py:692: ConvergenceWarning: Stochastic Optimizer: Maximum iterations (200) reached and the optimization hasn't converged yet.\n",
      "  warnings.warn(\n"
     ]
    },
    {
     "name": "stdout",
     "output_type": "stream",
     "text": [
      "\n",
      "Model: MLPClassifier\n",
      "Score: 0.958283430053093\n"
     ]
    },
    {
     "name": "stderr",
     "output_type": "stream",
     "text": [
      "/home/albert/Documentos/Personal/UOC/TFM/code/venv/lib/python3.8/site-packages/sklearn/neural_network/_multilayer_perceptron.py:692: ConvergenceWarning: Stochastic Optimizer: Maximum iterations (200) reached and the optimization hasn't converged yet.\n",
      "  warnings.warn(\n"
     ]
    }
   ],
   "source": [
    "classifiers_scores = []\n",
    "for model, description in classifiers:\n",
    "    # Save model\n",
    "    ModelPersister.save(model, description)\n",
    "    score = mean(cross_val_score(model, train_x, train_y))\n",
    "    classifiers_scores.append(score)\n",
    "    print(get_model_log_string(model, description))\n",
    "    print(f'Score: {score}')"
   ],
   "metadata": {
    "collapsed": false,
    "pycharm": {
     "name": "#%%\n"
    }
   }
  },
  {
   "cell_type": "markdown",
   "source": [
    "# Select best model based on accuracy score\n",
    "Select best model and predict test dataset."
   ],
   "metadata": {
    "collapsed": false,
    "pycharm": {
     "name": "#%% md\n"
    }
   }
  },
  {
   "cell_type": "code",
   "execution_count": 42,
   "outputs": [
    {
     "name": "stdout",
     "output_type": "stream",
     "text": [
      "\n",
      "Best model\n",
      " \n",
      "Model: SVC (linear)\n",
      "\n",
      "Train accuracy score: 0.958923941227312\n",
      "\n",
      "Test accuracy score: 0.9564102564102565\n",
      "Test AUC score: 0.9571372231562778\n"
     ]
    }
   ],
   "source": [
    "# Best model\n",
    "best_train_score = max(classifiers_scores)\n",
    "best_model_idx = classifiers_scores.index(best_train_score)\n",
    "best_model = classifiers[best_model_idx][0].fit(train_x, train_y)\n",
    "pred_y = best_model.predict(test_x)\n",
    "\n",
    "print('\\nBest model\\n', get_model_log_string(classifiers[best_model_idx][0], classifiers[best_model_idx][1]))\n",
    "print(f'\\nTrain accuracy score: {best_train_score}')\n",
    "print(f'\\nTest accuracy score: {accuracy_score(test_y, pred_y)}')\n",
    "print(f'Test AUC score: {roc_auc_score(test_y, pred_y)}')"
   ],
   "metadata": {
    "collapsed": false,
    "pycharm": {
     "name": "#%%\n"
    }
   }
  },
  {
   "cell_type": "code",
   "execution_count": 35,
   "outputs": [
    {
     "name": "stdout",
     "output_type": "stream",
     "text": [
      "\n",
      "Elapsed time 55.41949462890625 seconds\n"
     ]
    }
   ],
   "source": [
    "print(f'\\nElapsed time {time.time() - start} seconds')"
   ],
   "metadata": {
    "collapsed": false,
    "pycharm": {
     "name": "#%%\n"
    }
   }
  }
 ],
 "metadata": {
  "kernelspec": {
   "display_name": "Python 3",
   "language": "python",
   "name": "python3"
  },
  "language_info": {
   "codemirror_mode": {
    "name": "ipython",
    "version": 2
   },
   "file_extension": ".py",
   "mimetype": "text/x-python",
   "name": "python",
   "nbconvert_exporter": "python",
   "pygments_lexer": "ipython2",
   "version": "2.7.6"
  }
 },
 "nbformat": 4,
 "nbformat_minor": 0
}